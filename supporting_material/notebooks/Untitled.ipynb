{
 "cells": [
  {
   "cell_type": "code",
   "execution_count": 3,
   "metadata": {
    "collapsed": false
   },
   "outputs": [],
   "source": [
    "import numpy as np\n",
    "\n"
   ]
  },
  {
   "cell_type": "code",
   "execution_count": 52,
   "metadata": {
    "collapsed": false
   },
   "outputs": [],
   "source": [
    "def createStochasticMatrix(n):\n",
    "    \"\"\"\n",
    "    Returns a random n by n stochastic matrix\n",
    "    \n",
    "    Parameters\n",
    "    ----------\n",
    "    n : integer\n",
    "    \n",
    "    Return\n",
    "    ------\n",
    "    t : matrixlike\n",
    "    \"\"\"\n",
    "    \n",
    "    t = np.random.rand(n,n)\n",
    "    t2 = np.random.rand(n,n)\n",
    "    idx =(t2<0.5)\n",
    "    \n",
    "    t[idx]=0\n",
    "    \n",
    "    #scale the matrix so it becomes stochastic\n",
    "\n",
    "    for i in range(n):\n",
    "        if np.sum(t[i,:])==0:\n",
    "            t[i][i]=1\n",
    "        else:\n",
    "            t[i,:] /= np.sum(t[i,:])\n",
    "    return t\n",
    "    "
   ]
  },
  {
   "cell_type": "code",
   "execution_count": 5,
   "metadata": {
    "collapsed": false
   },
   "outputs": [
    {
     "name": "stdout",
     "output_type": "stream",
     "text": [
      "[[ 0.          0.84237975  0.15762025  0.        ]\n",
      " [ 0.          1.          0.          0.        ]\n",
      " [ 0.45628813  0.38571859  0.15799328  0.        ]\n",
      " [ 0.          0.          0.58600767  0.41399233]]\n"
     ]
    }
   ],
   "source": [
    "print (createStochasticMatrix(4))"
   ]
  },
  {
   "cell_type": "code",
   "execution_count": 43,
   "metadata": {
    "collapsed": false
   },
   "outputs": [],
   "source": [
    "import scipy.linalg as alg\n",
    "\n",
    "def findStationaryDistribution(t):\n",
    "    \"\"\"\n",
    "    Returns a (the) stationary distribution of the input matrix t\n",
    "    \n",
    "    Parameters\n",
    "    ----------\n",
    "    t : stochastic matrix\n",
    "\n",
    "    Return\n",
    "    ------\n",
    "    pi : stationary distribution of t\n",
    "    \"\"\"\n",
    "\n",
    "    eigvalue, eigvec = alg.eig(t,left=True,right=False)\n",
    "    print(eigvalue)\n",
    "    print(eigvec)\n",
    "    index = np.argmax(eigvalue)\n",
    "    print(index)\n",
    "    result = eigvec[:,index]\n",
    "    \n",
    "    result /= np.sum(result)\n",
    "    \n",
    "    return result"
   ]
  },
  {
   "cell_type": "code",
   "execution_count": 56,
   "metadata": {
    "collapsed": false
   },
   "outputs": [
    {
     "name": "stdout",
     "output_type": "stream",
     "text": [
      "[[ 0.17275886  0.          0.82724114  0.        ]\n",
      " [ 0.          0.          1.          0.        ]\n",
      " [ 0.          0.          1.          0.        ]\n",
      " [ 0.93020634  0.06979366  0.          0.        ]]\n",
      "[ 0.00000000+0.j  0.17275886+0.j  0.00000000+0.j  1.00000000+0.j]\n",
      "[[ -2.18661445e-290   7.07106781e-001   0.00000000e+000   0.00000000e+000]\n",
      " [ -7.07106781e-001   0.00000000e+000   7.07106781e-001   0.00000000e+000]\n",
      " [  7.07106781e-001  -7.07106781e-001  -7.07106781e-001   1.00000000e+000]\n",
      " [  4.06100249e-291   0.00000000e+000   0.00000000e+000   0.00000000e+000]]\n",
      "3\n",
      "[ 0.  0.  1.  0.]\n"
     ]
    }
   ],
   "source": [
    "matrix = createStochasticMatrix(4)\n",
    "print(matrix)\n",
    "#testmatrix = np.array([[0,1,0],[0,0,1],[1,0,0]])\n",
    "#print(testmatrix)\n",
    "#print(findStationaryDistribution(testmatrix))\n",
    "print(findStationaryDistribution(matrix))"
   ]
  },
  {
   "cell_type": "code",
   "execution_count": null,
   "metadata": {
    "collapsed": true
   },
   "outputs": [],
   "source": []
  },
  {
   "cell_type": "code",
   "execution_count": null,
   "metadata": {
    "collapsed": true
   },
   "outputs": [],
   "source": []
  },
  {
   "cell_type": "code",
   "execution_count": null,
   "metadata": {
    "collapsed": true
   },
   "outputs": [],
   "source": []
  }
 ],
 "metadata": {
  "kernelspec": {
   "display_name": "Python 3",
   "language": "python",
   "name": "python3"
  },
  "language_info": {
   "codemirror_mode": {
    "name": "ipython",
    "version": 3
   },
   "file_extension": ".py",
   "mimetype": "text/x-python",
   "name": "python",
   "nbconvert_exporter": "python",
   "pygments_lexer": "ipython3",
   "version": "3.5.1"
  }
 },
 "nbformat": 4,
 "nbformat_minor": 0
}
