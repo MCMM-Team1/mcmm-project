{
 "cells": [
  {
   "cell_type": "markdown",
   "metadata": {},
   "source": [
    "# Introduction to jupyter notebooks and test-driven development\n",
    "\n",
    "> The Jupyter Notebook is a web application that allows you to create and share documents that contain live code, equations, visualizations and explanatory text.\n",
    ">\n",
    "> --<cite>http://jupyter.org</cite>\n",
    "\n",
    "We often use jupyter notebooks for the ongoing analysis of new data, because it is interactive (no need to rerun all scripts when you want to change something along the line) and allows to have code snippets, figures, data, and text in one document. The notebooks are also useful for prototyping.\n",
    "\n",
    "You can learn more about jupyter notebooks on\n",
    "* https://youtu.be/-F4WS8o-G2A\n",
    "* https://youtu.be/o8fmjaW9a0A\n",
    "* https://youtu.be/kHPEz1wZZWc"
   ]
  },
  {
   "cell_type": "code",
   "execution_count": 1,
   "metadata": {
    "collapsed": false
   },
   "outputs": [
    {
     "name": "stderr",
     "output_type": "stream",
     "text": [
      "/home/mi/schwtony/miniconda3/lib/python3.5/site-packages/matplotlib/font_manager.py:273: UserWarning: Matplotlib is building the font cache using fc-list. This may take a moment.\n",
      "  warnings.warn('Matplotlib is building the font cache using fc-list. This may take a moment.')\n",
      "/home/mi/schwtony/miniconda3/lib/python3.5/site-packages/matplotlib/font_manager.py:273: UserWarning: Matplotlib is building the font cache using fc-list. This may take a moment.\n",
      "  warnings.warn('Matplotlib is building the font cache using fc-list. This may take a moment.')\n"
     ]
    }
   ],
   "source": [
    "# We start by importing the most commonly needed packages, i.e., numpy and matplotlib.pyplot\n",
    "%matplotlib inline\n",
    "import matplotlib.pyplot as plt\n",
    "import numpy as np"
   ]
  },
  {
   "cell_type": "markdown",
   "metadata": {},
   "source": [
    "## Plotting example\n",
    "\n",
    "`numpy` and `matplotlib.pyplot` are very useful tools for generation, manipulation, and visualisation of data.\n",
    "\n",
    "Let's make a plot of the function\n",
    "$$f(x)=\\exp\\left(-x^2\\right), \\quad x \\in [-3, 3].$$"
   ]
  },
  {
   "cell_type": "code",
   "execution_count": 12,
   "metadata": {
    "collapsed": false
   },
   "outputs": [
    {
     "data": {
      "text/plain": [
       "[<matplotlib.lines.Line2D at 0x7f7e588327b8>]"
      ]
     },
     "execution_count": 12,
     "metadata": {},
     "output_type": "execute_result"
    },
    {
     "data": {
      "image/png": "[encoded data removed]",
      "text/plain": [
       "<matplotlib.figure.Figure at 0x7f7e58910940>"
      ]
     },
     "metadata": {},
     "output_type": "display_data"
    }
   ],
   "source": [
    "x = np.linspace(-5, 5, 100) # generate 100 x values in the range [-3, 3]\n",
    "f = np.exp(-x**2) # compute f(x) for all generated x values\n",
    "plt.plot(x, f) # plot f(x)\n"
   ]
  },
  {
   "cell_type": "markdown",
   "metadata": {},
   "source": [
    "## Fancy plotting example"
   ]
  },
  {
   "cell_type": "code",
   "execution_count": 13,
   "metadata": {
    "collapsed": false
   },
   "outputs": [
    {
     "data": {
      "text/plain": [
       "<matplotlib.legend.Legend at 0x7f7e5999ed30>"
      ]
     },
     "execution_count": 13,
     "metadata": {},
     "output_type": "execute_result"
    },
    {
     "data": {
      "image/png": "[encoded data removed]",
      "text/plain": [
       "<matplotlib.figure.Figure at 0x7f7e598b8c18>"
      ]
     },
     "metadata": {},
     "output_type": "display_data"
    }
   ],
   "source": [
    "fig, ax = plt.subplots(figsize=(8, 4.5))\n",
    "ax.plot(x, f, linewidth=2, label=r\"$f(x)=\\exp(-x^2)$\")\n",
    "ax.plot([0, 0], [0, 1.1], '--', color='grey')\n",
    "ax.fill_between(x, 0.0, f, alpha=0.2)\n",
    "ax.set_ylim([0, 1.1])\n",
    "ax.set_xlabel(r\"$x$\", fontsize=20)\n",
    "ax.set_ylabel(r\"$f(x)$\", fontsize=20)\n",
    "ax.tick_params(labelsize=15)\n",
    "ax.legend(fontsize=17, fancybox=True, framealpha=0.2)"
   ]
  },
  {
   "cell_type": "markdown",
   "metadata": {},
   "source": [
    "## Test-driven development (TDD)\n",
    "\n",
    "TDD is a programming style where you\n",
    "1. define the interface of a function,\n",
    "2. write some tests before you write code,\n",
    "3. write the function until all tests are passed, and\n",
    "4. modify your function to improve efficiency without breaking its functionality and repeat from 2. if you introduce new functionality.\n",
    "\n",
    "TDD is a lot of work during the development stage, but bug fixing is very easy compared to large projects without unit tests.\n",
    "\n",
    "**Example:** write a function that computes the sum of all elements in a given list:\n",
    "$$\\texttt{summation}\\left([x_0, \\dots, x_{n-1}]\\right) \\rightarrow \\sum\\limits_{i=0}^{n-1} x_i$$\n",
    "\n",
    "### First stage: interface\n",
    "\n",
    "```python\n",
    "def summation(x):\n",
    "    pass\n",
    "```\n",
    "\n",
    "### Second stage: tests\n",
    "\n",
    "Ideas for simple tests:\n",
    "* sum of zeros equals zero\n",
    "* sum of ones equals number of elements\n",
    "* sum of $1, \\dots, n$ equals $n(n+1)/2$\n",
    "\n",
    "```python\n",
    "from nose.tools import assert_true\n",
    "\n",
    "def test_zeros():\n",
    "    n = 100\n",
    "    x = [0] * n\n",
    "    assert_true(summation(x) == 0)\n",
    "\n",
    "def test_ones():\n",
    "    n = 100\n",
    "    x = [1] * n\n",
    "    assert_true(summation(x) == n)\n",
    "\n",
    "def test_range():\n",
    "    n = 100\n",
    "    x = [i + 1 for i in range(n)]\n",
    "    assert_true(summation(x) == (n * (n + 1)) / 2)\n",
    "```\n",
    "\n",
    "### Third stage: code\n",
    "\n",
    "```python\n",
    "def summation(x):\n",
    "    result = 0\n",
    "    for y in x:\n",
    "        result += y\n",
    "    return result\n",
    "```\n",
    "\n",
    "### Fourth stage: modify\n",
    "\n",
    "`summation` will throw a `TypeError` if `x` is not a `list` (or any other iterable object). Let's add a feature that, if `x` is a single figure, `summation` returns `x`:\n",
    "\n",
    "```python\n",
    "def test_single_value():\n",
    "    x = np.random.rand()\n",
    "    assert_true(summation(x) == x)\n",
    "\n",
    "def summation(x):\n",
    "    result = 0\n",
    "    try:\n",
    "        for y in x:\n",
    "            result += y\n",
    "    except TypeError:\n",
    "        result = x\n",
    "    return result\n",
    "```\n",
    "\n",
    "## Hands-on TDD (optional)\n",
    "\n",
    "Implement a `logsumexp` summation:\n",
    "$$\\texttt{logsumexp}([x_0, \\dots, x_{n-1}]) \\rightarrow -\\ln\\left(\\sum_{i=0}^{n-1} \\exp\\left(-x_i\\right)\\right)$$"
   ]
  },
  {
   "cell_type": "code",
   "execution_count": null,
   "metadata": {
    "collapsed": true
   },
   "outputs": [],
   "source": [
    "def logsumexp(x):\n",
    "    pass\n",
    "\n",
    "from nose.tools import assert_true\n",
    "\n",
    "def test_zeros():\n",
    "    n = 100\n",
    "    x = [0] * n\n",
    "    assert_true(logsumexp(x) == )"
   ]
  }
 ],
 "metadata": {
  "kernelspec": {
   "display_name": "Python 3",
   "language": "python",
   "name": "python3"
  },
  "language_info": {
   "codemirror_mode": {
    "name": "ipython",
    "version": 3
   },
   "file_extension": ".py",
   "mimetype": "text/x-python",
   "name": "python",
   "nbconvert_exporter": "python",
   "pygments_lexer": "ipython3",
   "version": "3.5.1"
  }
 },
 "nbformat": 4,
 "nbformat_minor": 0
}
