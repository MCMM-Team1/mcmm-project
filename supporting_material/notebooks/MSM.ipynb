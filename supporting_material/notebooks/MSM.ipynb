{
 "cells": [
  {
   "cell_type": "code",
   "execution_count": 5,
   "metadata": {
    "collapsed": false
   },
   "outputs": [],
   "source": [
    "class MSM(object):\n",
    "    def __init__(self,t):\n",
    "        if(not checkStochasticMatrix(t)):\n",
    "            raise Exception(\"error: the given matrix t is not stochastic!\")\n",
    "        else:\n",
    "            self._t=t\n",
    "            computeEverything(self._t)\n",
    "    \n",
    "    \n",
    "    def checkStochasticMatrix(t):\n",
    "        \n",
    "        \"\"\"\n",
    "        checks if the given matrix t is row stochastic\n",
    "         \n",
    "        Paramters\n",
    "        ---------\n",
    "        t : matrix\n",
    "        \n",
    "        Return\n",
    "        ------\n",
    "        result : true if t is a row stochastic matrix, false otherwise\n",
    "        \"\"\"\n",
    "        numrows = len(t)\n",
    "        result = True\n",
    "        for i in range(numrows):\n",
    "            result &= (t.sum(axis=1)==1)\n",
    "        return result\n",
    "    \n",
    "    def computeEverything(self):\n",
    "        \"\"\"\n",
    "        Computes and stores a (the) stationary distribution of the input matrix t as well as the eigenvectors and eigenvalues\n",
    "        \n",
    "        \"\"\"\n",
    "        self._eigvalues, self._eigvecs = alg.eig(self._t,left=True,right=False)\n",
    "        index = np.argmax(self._eigvalues)\n",
    "        print(index)\n",
    "        stationaryDistributionTemp = self._eigvecs[:,index]\n",
    "        stationaryDistributionTemp /= np.sum(result)\n",
    "        self._stationaryDistribution = stationaryDistributionTemp\n",
    "    \n",
    "    @property\n",
    "    def eigvalues(self):\n",
    "        return self._eigvalues\n",
    "    \n",
    "    @property\n",
    "    def eigvectors(self):\n",
    "        return self._eigvectors\n",
    "    \n",
    "    @property\n",
    "    def stationaryDistribution(self):\n",
    "        return self._stationaryDistribution\n",
    "    \n",
    "    "
   ]
  },
  {
   "cell_type": "code",
   "execution_count": 4,
   "metadata": {
    "collapsed": true
   },
   "outputs": [],
   "source": [
    "import numpy as np\n",
    "import scipy.linalg as alg"
   ]
  },
  {
   "cell_type": "code",
   "execution_count": null,
   "metadata": {
    "collapsed": true
   },
   "outputs": [],
   "source": []
  }
 ],
 "metadata": {
  "kernelspec": {
   "display_name": "Python 3",
   "language": "python",
   "name": "python3"
  },
  "language_info": {
   "codemirror_mode": {
    "name": "ipython",
    "version": 3
   },
   "file_extension": ".py",
   "mimetype": "text/x-python",
   "name": "python",
   "nbconvert_exporter": "python",
   "pygments_lexer": "ipython3",
   "version": "3.5.1"
  }
 },
 "nbformat": 4,
 "nbformat_minor": 0
}
