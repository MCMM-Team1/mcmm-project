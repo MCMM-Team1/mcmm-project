{
 "cells": [
  {
   "cell_type": "code",
   "execution_count": null,
   "metadata": {
    "collapsed": true
   },
   "outputs": [],
   "source": [
    "import numpy as np\n",
    "import scipy.linalg \n",
    "import matplotlib.pyplot as plt\n"
   ]
  },
  {
   "cell_type": "code",
   "execution_count": null,
   "metadata": {
    "collapsed": false
   },
   "outputs": [],
   "source": [
    "dim = 50\n",
    "P = np.random.random((dim,dim))\n",
    "\n",
    "for i in range (dim):\n",
    "    P[i] = P[i] / np.sum(P[i])\n",
    "    \n",
    "print P"
   ]
  },
  {
   "cell_type": "code",
   "execution_count": null,
   "metadata": {
    "collapsed": false
   },
   "outputs": [],
   "source": [
    "eigval , eigvec_right , eigvec_left = scipy.linalg.eig(P,left=True,right=True)\n",
    "\n",
    "eigval = np.real(eigval)\n",
    "eigvec_right = np.real(eigvec_right)\n",
    "eigvec_left = np.real(eigvec_left)\n",
    "\n",
    "idx = np.argsort(abs(eigval))[::-1]\n",
    "\n",
    "eigval = eigval[idx]\n",
    "eigvec_left = eigvec_left[:,idx]\n",
    "eigvec_right = eigvec_right[:,idx]\n",
    "\n",
    "print eigvec_right"
   ]
  },
  {
   "cell_type": "code",
   "execution_count": null,
   "metadata": {
    "collapsed": false
   },
   "outputs": [],
   "source": [
    "np.sum(P[1])"
   ]
  },
  {
   "cell_type": "code",
   "execution_count": null,
   "metadata": {
    "collapsed": false
   },
   "outputs": [],
   "source": [
    "class MCMM(object):  \n",
    "    def __init__(self,P):\n",
    "        \"\"\"Initial step: Checks if the matrix is stochastic and quadratic\"\"\"\n",
    "        for i in range(len(P[0])):\n",
    "            if (abs(np.sum(P[i])-1>1.0E-8)):\n",
    "                print \"Not stochastic\"\n",
    "        if (len(P[0])!=len(P[1])):\n",
    "            print \"Not quadratic\"\n",
    "    \n",
    "    \n",
    "    def eigAnalysis(self,P):\n",
    "        \"\"\"Calculates eigenvalus and eigevectors both right and left.\n",
    "        \n",
    "        Input: Stochastic (int(n),int(n)) matrix.\n",
    "        \n",
    "        Output: Array with eigenvalus sorted in descending order.\n",
    "                Left and right eigenvectors normlaized in the 2-norm v[:,i].\n",
    "                Stationary distribution as probability distribution as an array.\"\"\"\n",
    "        eigval , eigvec_right , eigvec_left = scipy.linalg.eig(P,left=True,right=True)\n",
    "\n",
    "        eigval = np.real(eigval)\n",
    "        eigvec_right = np.real(eigvec_right)\n",
    "        eigvec_left = np.real(eigvec_left)\n",
    "\n",
    "        idx = np.argsort(abs(eigval))[::-1]\n",
    "\n",
    "        eigval = eigval[idx]\n",
    "        eigvec_left = eigvec_left[:,idx]\n",
    "        eigvec_right = eigvec_right[:,idx]\n",
    "        \n",
    "        self.eigval = eigval\n",
    "        self.eigvec_left = eigvec_left \n",
    "        self.eigvec_right = eigvec_right\n",
    "        self.stationary = eigvec_right[:,0]/np.sum(eigvec_right[:,0])\n",
    "        return self\n",
    "    \n",
    "    def visualizeMatrix(self,P):\n",
    "        \"\"\"Plots the transition matrix as a 2D plot\"\"\"\n",
    "        fig = plt.figure(figsize=(6, 3.2))\n",
    "        ax = fig.add_subplot(111)\n",
    "        ax.set_title('colorMap')\n",
    "        plt.imshow(P)\n",
    "        ax.set_aspect('equal')\n",
    "\n",
    "        cax = fig.add_axes([0.12, 0.1, 0.78, 0.8])\n",
    "        cax.get_xaxis().set_visible(False)\n",
    "        cax.get_yaxis().set_visible(False)\n",
    "        cax.patch.set_alpha(0)\n",
    "        cax.set_frame_on(False)\n",
    "        plt.colorbar(orientation='vertical')\n",
    "        \n",
    "        return plt.show()\n"
   ]
  },
  {
   "cell_type": "code",
   "execution_count": null,
   "metadata": {
    "collapsed": false
   },
   "outputs": [],
   "source": [
    "Test = MCMM(P)"
   ]
  },
  {
   "cell_type": "code",
   "execution_count": null,
   "metadata": {
    "collapsed": false
   },
   "outputs": [],
   "source": [
    "Test.eigAnalysis(P)"
   ]
  },
  {
   "cell_type": "code",
   "execution_count": null,
   "metadata": {
    "collapsed": false
   },
   "outputs": [],
   "source": [
    "Test.eigvec_right"
   ]
  },
  {
   "cell_type": "code",
   "execution_count": null,
   "metadata": {
    "collapsed": false
   },
   "outputs": [],
   "source": [
    "print Test.stationary\n",
    "print eigvec_right[:,0]/np.sum(eigvec_right[:,0])"
   ]
  },
  {
   "cell_type": "code",
   "execution_count": null,
   "metadata": {
    "collapsed": false
   },
   "outputs": [],
   "source": [
    "np.sum(Test.stationary)"
   ]
  },
  {
   "cell_type": "code",
   "execution_count": null,
   "metadata": {
    "collapsed": false
   },
   "outputs": [],
   "source": [
    "Test.visualizeMatrix(P)\n",
    "\n"
   ]
  },
  {
   "cell_type": "code",
   "execution_count": null,
   "metadata": {
    "collapsed": true
   },
   "outputs": [],
   "source": []
  }
 ],
 "metadata": {
  "kernelspec": {
   "display_name": "Python 2",
   "language": "python",
   "name": "python2"
  },
  "language_info": {
   "codemirror_mode": {
    "name": "ipython",
    "version": 2
   },
   "file_extension": ".py",
   "mimetype": "text/x-python",
   "name": "python",
   "nbconvert_exporter": "python",
   "pygments_lexer": "ipython2",
   "version": "2.7.11"
  }
 },
 "nbformat": 4,
 "nbformat_minor": 0
}
