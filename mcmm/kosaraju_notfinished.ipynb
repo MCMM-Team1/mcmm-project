{
 "cells": [
  {
   "cell_type": "code",
   "execution_count": 6,
   "metadata": {
    "collapsed": false
   },
   "outputs": [],
   "source": [
    "import numpy as np\n",
    "\n",
    "#tests\n",
    "a = np.array([[0,1,0,0],[1,0,0,0],[0,0,0,1],[0,0,1,0]])\n",
    "b = np.array([[0,1,0,0],[0,0,1,0],[1,0,0,0],[0,0,0,1]])\n",
    "\n",
    "def tests():\n",
    "    print(kosaraju(a)) #should print something like [[1,2],[3,4]]\n",
    "    print(kosaraju(b)) #should print something like [[1,2,3],[4]]"
   ]
  },
  {
   "cell_type": "code",
   "execution_count": 2,
   "metadata": {
    "collapsed": true
   },
   "outputs": [],
   "source": [
    "def kosaraju(D):\n",
    "    \"\"\"\n",
    "    Parameters\n",
    "    ----------\n",
    "    T: matrixlike, i.e list of lists\n",
    "    ----------\n",
    "    \n",
    "    Return\n",
    "    -------\n",
    "    List of communication classes\n",
    "    -------\n",
    "    \"\"\"\n",
    "    V = []\n",
    "    while len(V) < len(D):\n",
    "        v = [x for x in range(len(D)) if x not in V][0]\n",
    "        DFS(D,v,V)\n",
    "    "
   ]
  },
  {
   "cell_type": "code",
   "execution_count": 45,
   "metadata": {
    "collapsed": false
   },
   "outputs": [],
   "source": [
    "def DFS(D,v,E,label):\n",
    "    \"\"\"\n",
    "    Parameters\n",
    "    ----------\n",
    "    D: matrixlike, i.e list of lists\n",
    "    v: integer, the \"starting node\" \n",
    "    E: list of discovered nodes\n",
    "    ----------\n",
    "    \n",
    "    Return\n",
    "    -------\n",
    "    updated list E\n",
    "    -------\n",
    "    \"\"\"\n",
    "    \n",
    "    \n",
    "    #label v  as discovered\n",
    "    if v in label:\n",
    "        pass\n",
    "    else:\n",
    "        label.append(v)\n",
    "    #for all outgoing arcs from v\n",
    "    for node in range(len(D[v])):\n",
    "        if node != v and D[v][node] > 0:\n",
    "            if node in label:\n",
    "                pass\n",
    "            else:\n",
    "                DFS(D,node,E,label)\n",
    "    \n",
    "    #add v to E if it is not already in E\n",
    "    if v in E:\n",
    "        pass\n",
    "    else:\n",
    "        E.append(v)\n",
    "    return E"
   ]
  },
  {
   "cell_type": "code",
   "execution_count": 46,
   "metadata": {
    "collapsed": false
   },
   "outputs": [
    {
     "name": "stdout",
     "output_type": "stream",
     "text": [
      "[1, 0]\n"
     ]
    }
   ],
   "source": [
    "print(DFS(a,0,[],[]))"
   ]
  },
  {
   "cell_type": "code",
   "execution_count": 47,
   "metadata": {
    "collapsed": false
   },
   "outputs": [
    {
     "name": "stdout",
     "output_type": "stream",
     "text": [
      "[2, 1, 0]\n"
     ]
    }
   ],
   "source": [
    "print(DFS(b,0,[],[]))"
   ]
  },
  {
   "cell_type": "code",
   "execution_count": 56,
   "metadata": {
    "collapsed": false
   },
   "outputs": [
    {
     "name": "stdout",
     "output_type": "stream",
     "text": [
      "[0 5]\n"
     ]
    }
   ],
   "source": [
    "bla = np.array([0,3,5,2])\n",
    "bla2 = np.array([2,3])\n",
    "bla = np.array([x for x in bla if x not in bla2])\n",
    "print(bla)"
   ]
  },
  {
   "cell_type": "code",
   "execution_count": 57,
   "metadata": {
    "collapsed": false
   },
   "outputs": [
    {
     "data": {
      "text/plain": [
       "True"
      ]
     },
     "execution_count": 57,
     "metadata": {},
     "output_type": "execute_result"
    }
   ],
   "source": [
    "2 not in [1,3]"
   ]
  },
  {
   "cell_type": "code",
   "execution_count": null,
   "metadata": {
    "collapsed": true
   },
   "outputs": [],
   "source": []
  }
 ],
 "metadata": {
  "kernelspec": {
   "display_name": "Python 3",
   "language": "python",
   "name": "python3"
  },
  "language_info": {
   "codemirror_mode": {
    "name": "ipython",
    "version": 3
   },
   "file_extension": ".py",
   "mimetype": "text/x-python",
   "name": "python",
   "nbconvert_exporter": "python",
   "pygments_lexer": "ipython3",
   "version": "3.5.1"
  }
 },
 "nbformat": 4,
 "nbformat_minor": 0
}
