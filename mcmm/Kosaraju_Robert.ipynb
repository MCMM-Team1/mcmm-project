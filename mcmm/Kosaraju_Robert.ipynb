{
 "cells": [
  {
   "cell_type": "code",
   "execution_count": 1,
   "metadata": {
    "collapsed": true
   },
   "outputs": [],
   "source": [
    "import matplotlib.pyplot as plt\n",
    "import numpy as np\n",
    "from scipy.linalg import eig\n",
    "%matplotlib inline"
   ]
  },
  {
   "cell_type": "code",
   "execution_count": 2,
   "metadata": {
    "collapsed": false
   },
   "outputs": [
    {
     "data": {
      "text/plain": [
       "array([[ 0.5,  0.5,  0. ,  0. ],\n",
       "       [ 0.5,  0.5,  0. ,  0. ],\n",
       "       [ 0. ,  0. ,  0.5,  0.5],\n",
       "       [ 0. ,  0. ,  0.5,  0.5]])"
      ]
     },
     "execution_count": 2,
     "metadata": {},
     "output_type": "execute_result"
    }
   ],
   "source": [
    "#testmatrix2classes\n",
    "t=np.zeros([4,4])\n",
    "t[0,0]=0.5\n",
    "t[0,1]=0.5\n",
    "t[1,0]=0.5\n",
    "t[1,1]=0.5\n",
    "t[2,2]=0.5\n",
    "t[2,3]=0.5\n",
    "t[3,2]=0.5\n",
    "t[3,3]=0.5\n",
    "t"
   ]
  },
  {
   "cell_type": "code",
   "execution_count": 3,
   "metadata": {
    "collapsed": false
   },
   "outputs": [],
   "source": [
    "def DFS(t,start=0,found=[]):\n",
    "    \"\"\"Depth-First-Search: finds all the connected vertices to a startingvertex.\n",
    "    Input: t is the nxn-dim. transition-matrix, \n",
    "    start is a integer number >=0 specifying the starting-vertex (counting of vertices begins with 0), \n",
    "    found is a list of already found vertices\n",
    "    Output: Returns the completed list of all the connected vertices, ordered by decreasing depth\"\"\"\n",
    "    #making sure that t is a np.array and found is a list\n",
    "    t=np.array(t)\n",
    "    if not isinstance(found,list):\n",
    "        found=np.ndarray.tolist(found)\n",
    "    #checking that the starting-vertex is not already found\n",
    "    while start in found:\n",
    "        start+=1\n",
    "        if start>=len(t):\n",
    "            print 'All vertices already found'\n",
    "            return found\n",
    "    #making a starting-vector out of start with a \"1\" at the position of starting vertex and \"0\" otherwise   \n",
    "    startv=np.zeros(len(t))\n",
    "    startv[start]=1\n",
    "    #making a vector of the found vertices with \"1\" for the found vertices and \"0\" for the non found\n",
    "    foundlist=np.zeros(len(t))\n",
    "    foundlist[found]=1\n",
    "    foundlist=((foundlist+startv)!=0)*1\n",
    "    #making a matrix to save the vertex-positions during the DFS, for going steps back\n",
    "    memostartv=np.zeros([len(t),2*len(t)])\n",
    "    #begin of DFS\n",
    "    for i in range(2*len(t)):\n",
    "        a=np.dot(startv,t)\n",
    "        a= (a!=0) #ones in all vertex-positions that are connected to startv and zeros otherwise\n",
    "        if -1 in (foundlist-a):#check if not all the vertices to startv are already found\n",
    "            b= foundlist-a #in b elements with -1 are the new vertices\n",
    "            memostartv[:,i]=startv #saving position\n",
    "            startv=startv-startv #create a new startv out of the connected vertices\n",
    "            startv[next(k for k in range(len(b)) if b[k] == -1)]=1 \n",
    "            foundlist=startv+foundlist \n",
    "        else:\n",
    "            c=next(k for k in range(len(t)) if startv[k] == 1) #get back the number of the vertex-vector\n",
    "            if c in found: #early ending condition\n",
    "                break\n",
    "            found.append(c)\n",
    "            memostartv[:,i]=startv \n",
    "            if (np.sum(memostartv[:,i-1]))==0: #for the case, that the first startv has no connected vertices,\n",
    "                break                          #then the step back would not be well defined\n",
    "            startv=memostartv[:,i-1] #the new startv is the step back in the vertices\n",
    "    return found"
   ]
  },
  {
   "cell_type": "code",
   "execution_count": 4,
   "metadata": {
    "collapsed": false
   },
   "outputs": [],
   "source": [
    "def kosaraju(t):\n",
    "    \"\"\"Finds all communiction classes of a nxn-dim. transition-matrix t\n",
    "    Returns them as list of lists\"\"\"\n",
    "    n=len(t)\n",
    "    v=[]\n",
    "    while len(v)<n: \n",
    "        v=DFS(t,found=v)\n",
    "    backv=v[::-1]\n",
    "    backt=np.transpose(t)\n",
    "    a=[]\n",
    "    b=[]\n",
    "    c=[]\n",
    "    for i in range(n):\n",
    "        if backv[i] in a:\n",
    "            pass\n",
    "        else:\n",
    "            c=DFS(backt,backv[i],[])  \n",
    "            a=np.append(a,c)\n",
    "            b.append(c)\n",
    "    return b"
   ]
  },
  {
   "cell_type": "code",
   "execution_count": 5,
   "metadata": {
    "collapsed": false
   },
   "outputs": [
    {
     "data": {
      "text/plain": [
       "[1, 0]"
      ]
     },
     "execution_count": 5,
     "metadata": {},
     "output_type": "execute_result"
    }
   ],
   "source": [
    "DFS(t)"
   ]
  },
  {
   "cell_type": "code",
   "execution_count": 6,
   "metadata": {
    "collapsed": false
   },
   "outputs": [
    {
     "data": {
      "text/plain": [
       "[1, 0, 2]"
      ]
     },
     "execution_count": 6,
     "metadata": {},
     "output_type": "execute_result"
    }
   ],
   "source": [
    "DFS(t,[2,3])"
   ]
  },
  {
   "cell_type": "code",
   "execution_count": 7,
   "metadata": {
    "collapsed": false
   },
   "outputs": [
    {
     "data": {
      "text/plain": [
       "[[3, 2], [1, 0]]"
      ]
     },
     "execution_count": 7,
     "metadata": {},
     "output_type": "execute_result"
    }
   ],
   "source": [
    "kosaraju(t)"
   ]
  },
  {
   "cell_type": "code",
   "execution_count": null,
   "metadata": {
    "collapsed": true
   },
   "outputs": [],
   "source": []
  }
 ],
 "metadata": {
  "kernelspec": {
   "display_name": "Python 2",
   "language": "python",
   "name": "python2"
  },
  "language_info": {
   "codemirror_mode": {
    "name": "ipython",
    "version": 2
   },
   "file_extension": ".py",
   "mimetype": "text/x-python",
   "name": "python",
   "nbconvert_exporter": "python",
   "pygments_lexer": "ipython2",
   "version": "2.7.11"
  }
 },
 "nbformat": 4,
 "nbformat_minor": 0
}
