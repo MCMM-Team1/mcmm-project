{
 "cells": [
  {
   "cell_type": "code",
   "execution_count": null,
   "metadata": {
    "collapsed": true
   },
   "outputs": [],
   "source": [
    "import mcmm\n",
    "import numpy as np\n",
    "\n",
    "import mcmm.example"
   ]
  },
  {
   "cell_type": "code",
   "execution_count": null,
   "metadata": {
    "collapsed": false
   },
   "outputs": [],
   "source": [
    "data = mcmm.example.generate_test_data(60,5)\n",
    "\n",
    "clusterObject = mcmm.clustering.cluster(data,8)\n",
    "\n",
    "\n",
    "estimationObject1 = mcmm.estimation.estimate(clusterObject.disctrajectories,1,clusterObject.numberCenters)\n",
    "estimationObject2 = mcmm.estimation.estimate(clusterObject.disctrajectories,2,clusterObject.numberCenters)\n",
    "estimationObject3 = mcmm.estimation.estimate(clusterObject.disctrajectories,3,clusterObject.numberCenters)\n",
    "\n",
    "print(clusterObject.disctrajectories)\n",
    "\n",
    "print(estimationObject1.countMatrix)\n",
    "print(\"---------------------------\")\n",
    "\n",
    "print(estimationObject2.countMatrix)\n",
    "print(\"---------------------------\")\n",
    "\n",
    "print(estimationObject3.countMatrix)\n",
    "print(\"---------------------------\")"
   ]
  },
  {
   "cell_type": "code",
   "execution_count": null,
   "metadata": {
    "collapsed": false
   },
   "outputs": [],
   "source": [
    "import numpy as np\n",
    "import scipy as sp\n",
    "from scipy import spatial\n",
    "\n",
    "import mcmm\n",
    "data = mcmm.example.generate_test_data(40,5)\n",
    "\n",
    "clusterObject = mcmm.clustering.cluster(data,8)\n",
    "\n",
    "bla = sp.spatial.distance.cdist(clusterObject.centers,data[0],'sqeuclidean')\n",
    "print(bla)\n",
    "print(type(bla))\n",
    "\n",
    "print(np.amin(bla,1))"
   ]
  },
  {
   "cell_type": "code",
   "execution_count": null,
   "metadata": {
    "collapsed": true
   },
   "outputs": [],
   "source": []
  }
 ],
 "metadata": {
  "kernelspec": {
   "display_name": "Python 3",
   "language": "python",
   "name": "python3"
  },
  "language_info": {
   "codemirror_mode": {
    "name": "ipython",
    "version": 3
   },
   "file_extension": ".py",
   "mimetype": "text/x-python",
   "name": "python",
   "nbconvert_exporter": "python",
   "pygments_lexer": "ipython3",
   "version": "3.5.1"
  }
 },
 "nbformat": 4,
 "nbformat_minor": 0
}
