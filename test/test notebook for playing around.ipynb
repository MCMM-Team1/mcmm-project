{
 "cells": [
  {
   "cell_type": "code",
   "execution_count": null,
   "metadata": {
    "collapsed": true
   },
   "outputs": [],
   "source": [
    "import mcmm\n",
    "import numpy as np\n",
    "\n",
    "import mcmm.example"
   ]
  },
  {
   "cell_type": "code",
   "execution_count": null,
   "metadata": {
    "collapsed": false
   },
   "outputs": [],
   "source": [
    "data = mcmm.example.generate_test_data(60,5)\n",
    "\n",
    "clusterObject = mcmm.clustering.cluster(data,8)\n",
    "\n",
    "\n",
    "estimationObject1 = mcmm.estimation.estimate(clusterObject.disctrajectories,1,clusterObject.numberCenters)\n",
    "estimationObject2 = mcmm.estimation.estimate(clusterObject.disctrajectories,2,clusterObject.numberCenters)\n",
    "estimationObject3 = mcmm.estimation.estimate(clusterObject.disctrajectories,3,clusterObject.numberCenters)\n",
    "\n",
    "print(clusterObject.disctrajectories)\n",
    "\n",
    "print(estimationObject1.countMatrix)\n",
    "print(\"---------------------------\")\n",
    "\n",
    "print(estimationObject2.countMatrix)\n",
    "print(\"---------------------------\")\n",
    "\n",
    "print(estimationObject3.countMatrix)\n",
    "print(\"---------------------------\")"
   ]
  },
  {
   "cell_type": "code",
   "execution_count": null,
   "metadata": {
    "collapsed": false
   },
   "outputs": [],
   "source": [
    "import numpy as np\n",
    "import scipy as sp\n",
    "from scipy import spatial\n",
    "\n",
    "import mcmm\n",
    "data = mcmm.example.generate_test_data(40,5)\n",
    "\n",
    "clusterObject = mcmm.clustering.cluster(data,8)\n",
    "\n",
    "bla = sp.spatial.distance.cdist(clusterObject.centers,data[0],'sqeuclidean')\n",
    "print(bla)\n",
    "print(type(bla))\n",
    "\n",
    "print(np.amin(bla,1))"
   ]
  },
  {
   "cell_type": "code",
   "execution_count": 4,
   "metadata": {
    "collapsed": false
   },
   "outputs": [],
   "source": [
    "import mcmm\n",
    "\n",
    "import numpy as np\n",
    "\n",
    "import mcmm.example\n",
    "\n",
    "data = mcmm.example.generate_test_data()\n",
    "\n",
    "clusterObject = mcmm.clustering.cluster(data)\n",
    "\n",
    "\n",
    "\n",
    "tau = 2\n",
    "estimationObject1 = mcmm.estimation.estimate(clusterObject.disctrajectories,tau,clusterObject.numberCenters)\n",
    "\n",
    "#\n",
    "#print(clusterObject.disctrajectories)\n",
    "#print(estimationObject1.dictionaryReducedMatrix)\n",
    "\n",
    "\n",
    "#print(estimationObject1.reducedCountMatrix)\n",
    "\n",
    "#print(estimationObject1.countMatrix)\n",
    "#print(\"----------------------------------\")\n",
    "#print(estimationObject1.reducedCountMatrix)\n",
    "#print(\"----------------------------------\")\n",
    "#print(estimationObject1.transitionMatrix)\n",
    "\n",
    "\n",
    "\n"
   ]
  },
  {
   "cell_type": "code",
   "execution_count": null,
   "metadata": {
    "collapsed": false
   },
   "outputs": [],
   "source": [
    "list1 = [1,2,3,4]\n",
    "list2 = [2,5,8,11]\n",
    "\n",
    "dict1 = {i:list2[i] for i in range(len(list2))}\n",
    "print(dict1)"
   ]
  },
  {
   "cell_type": "code",
   "execution_count": 5,
   "metadata": {
    "collapsed": false
   },
   "outputs": [
    {
     "name": "stdout",
     "output_type": "stream",
     "text": [
      "[ 0.00757584  0.00648226  0.00796639  0.01161518  0.02027944  0.01242155\n",
      "  0.00858197  0.00592218  0.01826674  0.01098146  0.01093256  0.01029545\n",
      "  0.00192152  0.00661674  0.0221501   0.00925781  0.02017117  0.01163846\n",
      "  0.00967403  0.00294009  0.00493908  0.00847766  0.01197647  0.00969676\n",
      "  0.01286791  0.01085053  0.00917466  0.01230837  0.00851854  0.01910612\n",
      "  0.01242217  0.00778486  0.00633038  0.00696888  0.01420511  0.00383416\n",
      "  0.00618343  0.00451147  0.01923872  0.00815747  0.01611974  0.007812\n",
      "  0.0034761   0.00492362  0.01149075  0.00691039  0.01294146  0.01093328\n",
      "  0.00532155  0.01085275  0.00631033  0.00542204  0.01591108  0.01840272\n",
      "  0.01536119  0.00916123  0.00652658  0.00998382  0.00618602  0.00729949\n",
      "  0.01180159  0.00561538  0.01181422  0.00917203  0.01033572  0.01062801\n",
      "  0.02259003  0.0026383   0.0117399   0.01316687  0.00245205  0.00396896\n",
      "  0.01317562  0.01628867  0.01172722  0.00422206  0.00506061  0.01181907\n",
      "  0.00781846  0.01298931  0.0083904   0.00306608  0.0187233   0.00360164\n",
      "  0.01052187  0.0171147   0.00898644  0.00914912  0.0058495   0.00534205\n",
      "  0.0149375   0.01791049  0.00866861  0.00430464  0.01678251  0.01592624\n",
      "  0.00873498  0.00962675  0.00626777  0.0024815 ]\n"
     ]
    }
   ],
   "source": [
    "msmObject = mcmm.msm.MSM(estimationObject1.transitionMatrix)\n",
    "\n",
    "print(msmObject.stationary)"
   ]
  },
  {
   "cell_type": "code",
   "execution_count": 6,
   "metadata": {
    "collapsed": false
   },
   "outputs": [
    {
     "name": "stdout",
     "output_type": "stream",
     "text": [
      "[ 1.00000000+0.j          0.99662119+0.j          0.98452555+0.j\n",
      "  0.98162698+0.j          0.90160232+0.j          0.89909906+0.j\n",
      "  0.89730783+0.j          0.87543011+0.j          0.82764230+0.j\n",
      "  0.82197294+0.j          0.81730926+0.j          0.80569959+0.j\n",
      "  0.76590294+0.j          0.75726000+0.j          0.73262962+0.j\n",
      "  0.72152806+0.j          0.71545114+0.j          0.71431454+0.j\n",
      "  0.66595648+0.00171409j  0.66595648-0.00171409j  0.65281023+0.j\n",
      "  0.64442610+0.j          0.63325993+0.j          0.62569325+0.j\n",
      "  0.61829047+0.j          0.59439466+0.j          0.58319057+0.j\n",
      "  0.56959729+0.j          0.56192680+0.j          0.55262901+0.j\n",
      "  0.54340739+0.j          0.53569080+0.j          0.51945343+0.j\n",
      "  0.51447470+0.j          0.50335913+0.j          0.49998264+0.j\n",
      "  0.49495870+0.j          0.47749484+0.j          0.46825629+0.j\n",
      "  0.46233856+0.j          0.44593730+0.j          0.43909072-0.00235118j\n",
      "  0.43909072+0.00235118j  0.42750660+0.j          0.42370096+0.j\n",
      "  0.41830558+0.j          0.40215649+0.j          0.39290360+0.j\n",
      "  0.39054996-0.00379338j  0.39054996+0.00379338j  0.37911558+0.j\n",
      "  0.37085867+0.j          0.36858563+0.j          0.35355018+0.j\n",
      "  0.34375329+0.j          0.33131074+0.j          0.32985238-0.00537276j\n",
      "  0.32985238+0.00537276j  0.32223284+0.j          0.32087809+0.j\n",
      "  0.30741031-0.0014653j   0.30741031+0.0014653j   0.30431620+0.j\n",
      "  0.30333908+0.j          0.29624904+0.j          0.29268993+0.j\n",
      "  0.28090869+0.j          0.27079035+0.j          0.26324856+0.j\n",
      "  0.25661504+0.j          0.25230030+0.j          0.24020323+0.j\n",
      "  0.23614502+0.j          0.23244485+0.j          0.21674708+0.j\n",
      "  0.20964262+0.j          0.20693629+0.j          0.19853614+0.j\n",
      "  0.19032941+0.j          0.18391556+0.j          0.18266677+0.j\n",
      "  0.18090628+0.j          0.17632896+0.j          0.16422028+0.j\n",
      "  0.16340651+0.j          0.15458957+0.j          0.15366257+0.j\n",
      "  0.14156532+0.j          0.14072988+0.j          0.13781576+0.j\n",
      "  0.13670004+0.j          0.10267604+0.j          0.09653261+0.j\n",
      "  0.09047676+0.j          0.08875783+0.j          0.06279395+0.j\n",
      "  0.05987058+0.j          0.05872296+0.j          0.04941008+0.j\n",
      "  0.03329965+0.j        ]\n"
     ]
    }
   ],
   "source": [
    "print(msmObject.eigvalues)"
   ]
  },
  {
   "cell_type": "code",
   "execution_count": null,
   "metadata": {
    "collapsed": true
   },
   "outputs": [],
   "source": []
  }
 ],
 "metadata": {
  "kernelspec": {
   "display_name": "Python 3",
   "language": "python",
   "name": "python3"
  },
  "language_info": {
   "codemirror_mode": {
    "name": "ipython",
    "version": 3
   },
   "file_extension": ".py",
   "mimetype": "text/x-python",
   "name": "python",
   "nbconvert_exporter": "python",
   "pygments_lexer": "ipython3",
   "version": "3.5.1"
  }
 },
 "nbformat": 4,
 "nbformat_minor": 0
}
