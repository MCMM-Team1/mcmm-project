{
 "cells": [
  {
   "cell_type": "code",
   "execution_count": null,
   "metadata": {
    "collapsed": true
   },
   "outputs": [],
   "source": [
    "import mcmm\n",
    "import numpy as np\n",
    "from nose.tools import assert_true\n",
    "\n",
    "def check_kosaraju(t,r):\n",
    "    \"\"\"\n",
    "    Parameters\n",
    "    ----------\n",
    "    t: matrix for the algorithm\n",
    "    r: the result which is known beforehand, given as set\n",
    "    \"\"\"\n",
    "    kosarajuResult = mcmm.msm.findLargestCommClass(t)\n",
    "    #want the lists to appear as sets for comparison\n",
    "    kosarajuResultAsSet = set()\n",
    "    for element in kosarajuResult:\n",
    "        kosarajuResultAsSet.add(element)\n",
    "    assert_true(r == kosarajuResultAsSet)"
   ]
  },
  {
   "cell_type": "code",
   "execution_count": null,
   "metadata": {
    "collapsed": false
   },
   "outputs": [],
   "source": [
    "#absorbing case\n",
    "t4 = np.array([[0.7,0.3,0,0,0],[0.3,0.7,0,0,0],[0.1,0,0.3,0.5,0.1],[0,0.1,0.5,0.2,0.2],[0,0.1,0.1,0.5,0.3]])\n",
    "r4 = set([2 , 3 , 4])\n",
    "\n",
    "#uniform random case\n",
    "t5 = np.array([[0.2,0.2,0.2,0.2,0.2],[0.2,0.2,0.2,0.2,0.2],[0.2,0.2,0.2,0.2,0.2],[0.2,0.2,0.2,0.2,0.2],[0.2,0.2,0.2,0.2,0.2]])\n",
    "r5 = set([0,1,2,3,4])\n",
    "\n",
    "check_kosaraju(t4,r4)\n",
    "check_kosaraju(t5,r5)\n",
    "\n"
   ]
  },
  {
   "cell_type": "code",
   "execution_count": null,
   "metadata": {
    "collapsed": true
   },
   "outputs": [],
   "source": []
  }
 ],
 "metadata": {
  "kernelspec": {
   "display_name": "Python 3",
   "language": "python",
   "name": "python3"
  },
  "language_info": {
   "codemirror_mode": {
    "name": "ipython",
    "version": 3
   },
   "file_extension": ".py",
   "mimetype": "text/x-python",
   "name": "python",
   "nbconvert_exporter": "python",
   "pygments_lexer": "ipython3",
   "version": "3.5.1"
  }
 },
 "nbformat": 4,
 "nbformat_minor": 0
}
