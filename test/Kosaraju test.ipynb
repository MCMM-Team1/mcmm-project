{
 "cells": [
  {
   "cell_type": "code",
   "execution_count": null,
   "metadata": {
    "collapsed": false
   },
   "outputs": [],
   "source": [
    "import mcmm\n",
    "import numpy as np\n",
    "from nose.tools import assert_true"
   ]
  },
  {
   "cell_type": "code",
   "execution_count": null,
   "metadata": {
    "collapsed": true
   },
   "outputs": [],
   "source": [
    "def check_kosaraju(t,r):\n",
    "    \"\"\"\n",
    "    Parameters\n",
    "    ----------\n",
    "    t: matrix for the algorithm\n",
    "    r: the results which are known beforehand, given as set of frozensets\n",
    "    \"\"\"\n",
    "    kosarajuResult = mcmm.msm.kosaraju(t)\n",
    "    #want the lists to appear as sets for comparison\n",
    "    kosarajuResultsAsSets = set()\n",
    "    for element in kosarajuResult:\n",
    "        kosarajuResultsAsSets.add(frozenset(element))\n",
    "    assert_true(r == kosarajuResultsAsSets)"
   ]
  },
  {
   "cell_type": "code",
   "execution_count": null,
   "metadata": {
    "collapsed": false
   },
   "outputs": [],
   "source": [
    "#two disjoint communication classes case\n",
    "t1 = np.array([[0.9 , 0.1 , 0 , 0],[0.1 , 0.9 , 0 , 0],[0 , 0 , 0.8 , 0.2],[0 , 0 , 0.2 , 0.8]])\n",
    "r1 = set([frozenset([0 , 1]), frozenset([2 , 3])])\n",
    "\n",
    "t2 = np.array([[0.5 , 0.5],[0 , 1]])\n",
    "r2 = set([frozenset([0]),frozenset([1])])\n",
    "\n",
    "#identity matrix case\n",
    "t3 = np.array([[1 , 0 , 0],[0 , 1 , 0],[0 , 0 , 1]])\n",
    "r3 = set([frozenset([0]),frozenset([1]),frozenset([2])])\n",
    "\n",
    "#absorbing case\n",
    "t4 = np.array([[0.7,0.3,0,0,0],[0.3,0.7,0,0,0],[0.1,0,0.3,0.5,0.1],[0,0.1,0.5,0.2,0.2],[0,0.1,0.1,0.5,0.3]])\n",
    "r4 = set([frozenset([0 , 1]), frozenset([2 , 3 , 4])])\n",
    "\n",
    "#uniform random case\n",
    "t5 = np.array([[0.2,0.2,0.2,0.2,0.2],[0.2,0.2,0.2,0.2,0.2],[0.2,0.2,0.2,0.2,0.2],[0.2,0.2,0.2,0.2,0.2],[0.2,0.2,0.2,0.2,0.2]])\n",
    "r5 = set([frozenset([0,1,2,3,4])])\n",
    "\n",
    "check_kosaraju(t1,r1)\n",
    "check_kosaraju(t2,r2)\n",
    "check_kosaraju(t3,r3)\n",
    "check_kosaraju(t4,r4)\n",
    "check_kosaraju(t5,r5)\n"
   ]
  },
  {
   "cell_type": "code",
   "execution_count": null,
   "metadata": {
    "collapsed": true
   },
   "outputs": [],
   "source": []
  }
 ],
 "metadata": {
  "kernelspec": {
   "display_name": "Python 3",
   "language": "python",
   "name": "python3"
  },
  "language_info": {
   "codemirror_mode": {
    "name": "ipython",
    "version": 3
   },
   "file_extension": ".py",
   "mimetype": "text/x-python",
   "name": "python",
   "nbconvert_exporter": "python",
   "pygments_lexer": "ipython3",
   "version": "3.5.1"
  }
 },
 "nbformat": 4,
 "nbformat_minor": 0
}
