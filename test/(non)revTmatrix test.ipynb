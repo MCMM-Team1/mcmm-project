{
 "cells": [
  {
   "cell_type": "code",
   "execution_count": null,
   "metadata": {
    "collapsed": false
   },
   "outputs": [],
   "source": [
    "import mcmm\n",
    "import numpy as np\n",
    "from nose.tools import assert_true"
   ]
  },
  {
   "cell_type": "code",
   "execution_count": null,
   "metadata": {
    "collapsed": false
   },
   "outputs": [],
   "source": [
    "tolerance = 0.05\n",
    "\n",
    "# test 1: create countmatrix by scaling \n",
    "t1 = np.array([[0.853 , 0.147 , 0 , 0],[0.132 , 0.868 , 0 , 0],[0 , 0 , 0.8 , 0.2],[0 , 0 , 0.2 , 0.8]])\n",
    "t2 = np.array([[0.5 , 0.5],[0 , 1]])\n",
    "t3 = np.array([[1 , 0 , 0],[0 , 1 , 0],[0 , 0 , 1]])\n",
    "t4 = np.array([[0.7,0.3,0,0,0],[0.3,0.7,0,0,0],[0.1,0,0.3,0.5,0.1],[0,0.1,0.5,0.2,0.2],[0,0.1,0.1,0.5,0.3]])\n",
    "t5 = np.array([[0.21,0.19,0.212,0.188,0.2],[0.163,0.222,0.178,0.213,0.224],[0.234,0.251,0.117,0.146,0.252],[0.163,0.222,0.178,0.213,0.224],[0.2,0.2,0.2,0.2,0.2]])\n",
    "\n",
    "c1 = 1000 * t1\n",
    "c2 = 1000 * t2\n",
    "c3 = 1000 * t3\n",
    "c4 = 1000 * t4\n",
    "c5 = 1000 * t5\n",
    "\n",
    "#non reversible\n",
    "assert_true(checkTolerance(c1,mcmm.countmatrixTransitionmatrix.nonrevTmatrix(t1)))\n",
    "assert_true(checkTolerance(c2,mcmm.countmatrixTransitionmatrix.nonrevTmatrix(t2)))\n",
    "assert_true(checkTolerance(c3,mcmm.countmatrixTransitionmatrix.nonrevTmatrix(t3)))\n",
    "assert_true(checkTolerance(c4,mcmm.countmatrixTransitionmatrix.nonrevTmatrix(t4)))\n",
    "assert_true(checkTolerance(c5,mcmm.countmatrixTransitionmatrix.nonrevTmatrix(t5)))"
   ]
  },
  {
   "cell_type": "code",
   "execution_count": null,
   "metadata": {
    "collapsed": true
   },
   "outputs": [],
   "source": [
    "def checkTolerance(m1,m2):\n",
    "    result = True\n",
    "    for i in range(len(m1)):\n",
    "        for j in range(len(m2)):\n",
    "            result &= np.absolute(m1[i][j]-m2[i][j])<tolerance\n",
    "    return result"
   ]
  },
  {
   "cell_type": "code",
   "execution_count": null,
   "metadata": {
    "collapsed": true
   },
   "outputs": [],
   "source": []
  }
 ],
 "metadata": {
  "kernelspec": {
   "display_name": "Python 3",
   "language": "python",
   "name": "python3"
  },
  "language_info": {
   "codemirror_mode": {
    "name": "ipython",
    "version": 3
   },
   "file_extension": ".py",
   "mimetype": "text/x-python",
   "name": "python",
   "nbconvert_exporter": "python",
   "pygments_lexer": "ipython3",
   "version": "3.5.1"
  }
 },
 "nbformat": 4,
 "nbformat_minor": 0
}
